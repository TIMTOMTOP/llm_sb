{
 "cells": [
  {
   "cell_type": "code",
   "execution_count": 1,
   "metadata": {},
   "outputs": [
    {
     "ename": "ModuleNotFoundError",
     "evalue": "No module named 'tarfile'",
     "output_type": "error",
     "traceback": [
      "\u001b[0;31m---------------------------------------------------------------------------\u001b[0m",
      "\u001b[0;31mModuleNotFoundError\u001b[0m                       Traceback (most recent call last)",
      "Cell \u001b[0;32mIn[1], line 1\u001b[0m\n\u001b[0;32m----> 1\u001b[0m \u001b[38;5;28;01mimport\u001b[39;00m\u001b[38;5;250m \u001b[39m\u001b[38;5;21;01mtorch\u001b[39;00m\n\u001b[1;32m      2\u001b[0m \u001b[38;5;28;01mimport\u001b[39;00m\u001b[38;5;250m \u001b[39m\u001b[38;5;21;01mtorch\u001b[39;00m\u001b[38;5;21;01m.\u001b[39;00m\u001b[38;5;21;01mnn\u001b[39;00m\u001b[38;5;250m \u001b[39m\u001b[38;5;28;01mas\u001b[39;00m\u001b[38;5;250m \u001b[39m\u001b[38;5;21;01mnn\u001b[39;00m\n\u001b[1;32m      3\u001b[0m \u001b[38;5;28;01mfrom\u001b[39;00m\u001b[38;5;250m \u001b[39m\u001b[38;5;21;01mtorch\u001b[39;00m\u001b[38;5;21;01m.\u001b[39;00m\u001b[38;5;21;01mutils\u001b[39;00m\u001b[38;5;21;01m.\u001b[39;00m\u001b[38;5;21;01mdata\u001b[39;00m\u001b[38;5;250m \u001b[39m\u001b[38;5;28;01mimport\u001b[39;00m Dataset, DataLoader\n",
      "File \u001b[0;32m~/llm_sb/venv/lib/python3.12/site-packages/torch/__init__.py:2023\u001b[0m\n\u001b[1;32m   2020\u001b[0m _tensor_classes: _Set[_Type[\u001b[38;5;124m\"\u001b[39m\u001b[38;5;124mtorch.Tensor\u001b[39m\u001b[38;5;124m\"\u001b[39m]] \u001b[38;5;241m=\u001b[39m \u001b[38;5;28mset\u001b[39m()\n\u001b[1;32m   2022\u001b[0m \u001b[38;5;66;03m# If you edit these imports, please update torch/__init__.py.in as well\u001b[39;00m\n\u001b[0;32m-> 2023\u001b[0m \u001b[38;5;28;01mfrom\u001b[39;00m\u001b[38;5;250m \u001b[39m\u001b[38;5;21;01mtorch\u001b[39;00m\u001b[38;5;250m \u001b[39m\u001b[38;5;28;01mimport\u001b[39;00m amp \u001b[38;5;28;01mas\u001b[39;00m amp, random \u001b[38;5;28;01mas\u001b[39;00m random, serialization \u001b[38;5;28;01mas\u001b[39;00m serialization\n\u001b[1;32m   2024\u001b[0m \u001b[38;5;28;01mfrom\u001b[39;00m\u001b[38;5;250m \u001b[39m\u001b[38;5;21;01mtorch\u001b[39;00m\u001b[38;5;21;01m.\u001b[39;00m\u001b[38;5;21;01m_tensor_str\u001b[39;00m\u001b[38;5;250m \u001b[39m\u001b[38;5;28;01mimport\u001b[39;00m set_printoptions\n\u001b[1;32m   2025\u001b[0m \u001b[38;5;28;01mfrom\u001b[39;00m\u001b[38;5;250m \u001b[39m\u001b[38;5;21;01mtorch\u001b[39;00m\u001b[38;5;21;01m.\u001b[39;00m\u001b[38;5;21;01mamp\u001b[39;00m\u001b[38;5;250m \u001b[39m\u001b[38;5;28;01mimport\u001b[39;00m autocast, GradScaler\n",
      "File \u001b[0;32m~/llm_sb/venv/lib/python3.12/site-packages/torch/serialization.py:12\u001b[0m\n\u001b[1;32m     10\u001b[0m \u001b[38;5;28;01mimport\u001b[39;00m\u001b[38;5;250m \u001b[39m\u001b[38;5;21;01mstruct\u001b[39;00m\n\u001b[1;32m     11\u001b[0m \u001b[38;5;28;01mimport\u001b[39;00m\u001b[38;5;250m \u001b[39m\u001b[38;5;21;01msys\u001b[39;00m\n\u001b[0;32m---> 12\u001b[0m \u001b[38;5;28;01mimport\u001b[39;00m\u001b[38;5;250m \u001b[39m\u001b[38;5;21;01mtarfile\u001b[39;00m\n\u001b[1;32m     13\u001b[0m \u001b[38;5;28;01mimport\u001b[39;00m\u001b[38;5;250m \u001b[39m\u001b[38;5;21;01mtempfile\u001b[39;00m\n\u001b[1;32m     14\u001b[0m \u001b[38;5;28;01mimport\u001b[39;00m\u001b[38;5;250m \u001b[39m\u001b[38;5;21;01mthreading\u001b[39;00m\n",
      "\u001b[0;31mModuleNotFoundError\u001b[0m: No module named 'tarfile'"
     ]
    }
   ],
   "source": [
    "import torch\n",
    "import torch.nn as nn\n",
    "from torch.utils.data import Dataset, DataLoader\n",
    "from transformers import AutoModel, AutoTokenizer\n",
    "import json\n",
    "import logging\n",
    "import os\n",
    "from tqdm import tqdm"
   ]
  },
  {
   "cell_type": "code",
   "execution_count": 2,
   "metadata": {},
   "outputs": [],
   "source": [
    "# Setup logging\n",
    "logging.basicConfig(level=logging.INFO)\n",
    "logger = logging.getLogger(__name__)\n",
    "\n",
    "class CodeDocstringEncoder(nn.Module):\n",
    "    def __init__(self, model_name=\"answerdotai/ModernBERT-base\"):\n",
    "        super().__init__()\n",
    "        self.encoder = AutoModel.from_pretrained(model_name)\n",
    "        \n",
    "    def forward(self, input_ids, attention_mask):\n",
    "        outputs = self.encoder(input_ids=input_ids, attention_mask=attention_mask)\n",
    "        # Use CLS token embedding as sequence representation\n",
    "        return outputs.last_hidden_state[:, 0]"
   ]
  },
  {
   "cell_type": "code",
   "execution_count": 3,
   "metadata": {},
   "outputs": [],
   "source": [
    "class ContrastiveModel(nn.Module):\n",
    "    def __init__(self, model_name=\"answerdotai/ModernBERT-base\"):\n",
    "        super().__init__()\n",
    "        self.code_encoder = CodeDocstringEncoder(model_name)\n",
    "        self.docstring_encoder = CodeDocstringEncoder(model_name)\n",
    "        \n",
    "    def forward(self, code_ids, code_mask, doc_ids, doc_mask):\n",
    "        code_emb = self.code_encoder(code_ids, code_mask)\n",
    "        doc_emb = self.docstring_encoder(doc_ids, doc_mask)\n",
    "        return code_emb, doc_emb\n"
   ]
  },
  {
   "cell_type": "code",
   "execution_count": 4,
   "metadata": {},
   "outputs": [],
   "source": [
    "def contrastive_loss(code_emb, doc_emb, temperature=0.07):\n",
    "    # Normalize embeddings\n",
    "    code_emb = nn.functional.normalize(code_emb, dim=1)\n",
    "    doc_emb = nn.functional.normalize(doc_emb, dim=1)\n",
    "    \n",
    "    # Compute similarity matrix\n",
    "    similarity = torch.matmul(code_emb, doc_emb.T) / temperature\n",
    "    \n",
    "    # Labels: diagonal elements are positive pairs\n",
    "    labels = torch.arange(similarity.size(0), device=similarity.device)\n",
    "    \n",
    "    # Compute cross entropy loss in both directions\n",
    "    loss = (\n",
    "        nn.functional.cross_entropy(similarity, labels) + \n",
    "        nn.functional.cross_entropy(similarity.T, labels)\n",
    "    ) / 2\n",
    "    \n",
    "    return loss"
   ]
  },
  {
   "cell_type": "code",
   "execution_count": 5,
   "metadata": {},
   "outputs": [],
   "source": [
    "class CodeDocstringDataset(Dataset):\n",
    "    def __init__(self, json_path, tokenizer_name=\"answerdotai/ModernBERT-base\", max_length=512):\n",
    "        self.tokenizer = AutoTokenizer.from_pretrained(tokenizer_name)\n",
    "        self.max_length = max_length\n",
    "        \n",
    "        # Load JSON data\n",
    "        logger.info(f\"Loading data from {json_path}\")\n",
    "        with open(json_path, 'r') as f:\n",
    "            self.data = json.load(f)\n",
    "        # take 1000 examples\n",
    "        self.data = self.data[:1000]\n",
    "        logger.info(f\"Loaded {len(self.data)} examples\")\n",
    "        \n",
    "    def __len__(self):\n",
    "        return len(self.data)\n",
    "    \n",
    "    def __getitem__(self, idx):\n",
    "        item = self.data[idx]\n",
    "        code = item['code']\n",
    "        docstring = item['docstring']\n",
    "        \n",
    "        # Tokenize inputs\n",
    "        code_tokens = self.tokenizer(\n",
    "            code,\n",
    "            max_length=self.max_length,\n",
    "            padding='max_length',\n",
    "            truncation=True,\n",
    "            return_tensors='pt'\n",
    "        )\n",
    "        \n",
    "        doc_tokens = self.tokenizer(\n",
    "            docstring,\n",
    "            max_length=self.max_length,\n",
    "            padding='max_length',\n",
    "            truncation=True,\n",
    "            return_tensors='pt'\n",
    "        )\n",
    "        \n",
    "        return {\n",
    "            'code_input_ids': code_tokens['input_ids'].squeeze(0),\n",
    "            'code_attention_mask': code_tokens['attention_mask'].squeeze(0),\n",
    "            'doc_input_ids': doc_tokens['input_ids'].squeeze(0),\n",
    "            'doc_attention_mask': doc_tokens['attention_mask'].squeeze(0)\n",
    "        }\n"
   ]
  },
  {
   "cell_type": "code",
   "execution_count": null,
   "metadata": {},
   "outputs": [],
   "source": [
    "# Create dataset instance\n",
    "json_path = \"../dual_encoder_data/json/python_train_0.json\"\n",
    "max_length = 50  # Small length for demonstration\n",
    "dataset = CodeDocstringDataset(json_path=json_path, max_length=max_length)\n",
    "\n",
    "# Get the first item\n",
    "sample = dataset[0]\n",
    "\n",
    "# Print the results\n",
    "print(\"Original code (truncated):\", dataset.data[0]['code'][:50], \"...\")\n",
    "print(\"\\nCode input ids:\", sample['code_input_ids'])\n",
    "print(\"Code attention mask:\", sample['code_attention_mask'])\n",
    "print(\"\\nOriginal docstring (truncated):\", dataset.data[0]['docstring'][:50], \"...\")\n",
    "print(\"Docstring input ids:\", sample['doc_input_ids'])\n",
    "print(\"Docstring attention mask:\", sample['doc_attention_mask'])\n",
    "\n",
    "# Decode the tokens to see what they represent\n",
    "print(\"\\nDecoded code tokens:\", dataset.tokenizer.convert_ids_to_tokens(sample['code_input_ids']))\n",
    "print(\"Decoded docstring tokens:\", dataset.tokenizer.convert_ids_to_tokens(sample['doc_input_ids']))"
   ]
  },
  {
   "cell_type": "code",
   "execution_count": 7,
   "metadata": {},
   "outputs": [],
   "source": [
    "def train_step(model, batch, optimizer):\n",
    "    code_ids, code_mask = batch['code_input_ids'], batch['code_attention_mask']\n",
    "    doc_ids, doc_mask = batch['doc_input_ids'], batch['doc_attention_mask']\n",
    "    \n",
    "    code_emb, doc_emb = model(code_ids, code_mask, doc_ids, doc_mask)\n",
    "    loss = contrastive_loss(code_emb, doc_emb)\n",
    "    \n",
    "    optimizer.zero_grad()\n",
    "    loss.backward()\n",
    "    optimizer.step()\n",
    "    \n",
    "    return loss.item()"
   ]
  },
  {
   "cell_type": "code",
   "execution_count": 8,
   "metadata": {},
   "outputs": [],
   "source": [
    "def train_model(train_json_path, \n",
    "                model_save_dir,\n",
    "                batch_size=16,\n",
    "                num_epochs=10,\n",
    "                learning_rate=2e-5,\n",
    "                model_name=\"answerdotai/ModernBERT-base\",\n",
    "                max_length=128):\n",
    "    \n",
    "    # Create save directory if it doesn't exist\n",
    "    os.makedirs(model_save_dir, exist_ok=True)\n",
    "    \n",
    "    # Set device\n",
    "    device = torch.device('mps' if torch.mps.is_available() else 'cpu')\n",
    "    logger.info(f\"Using device: {device}\")\n",
    "    \n",
    "    # Initialize dataset and dataloader\n",
    "    dataset = CodeDocstringDataset(train_json_path, model_name, max_length)\n",
    "    dataloader = DataLoader(dataset, batch_size=batch_size, shuffle=True)\n",
    "    \n",
    "    # Initialize model\n",
    "    model = ContrastiveModel(model_name).to(device)\n",
    "    optimizer = torch.optim.AdamW(model.parameters(), lr=learning_rate)\n",
    "    \n",
    "    # Training loop\n",
    "    logger.info(\"Starting training...\")\n",
    "    for epoch in range(num_epochs):\n",
    "        model.train()\n",
    "        total_loss = 0\n",
    "        progress_bar = tqdm(dataloader, desc=f\"Epoch {epoch + 1}/{num_epochs}\")\n",
    "        \n",
    "        for batch_idx, batch in enumerate(progress_bar):\n",
    "            # Move batch to device\n",
    "            batch = {k: v.to(device) for k, v in batch.items()}\n",
    "            \n",
    "            # Training step\n",
    "            loss = train_step(model, batch, optimizer)\n",
    "            total_loss += loss\n",
    "            \n",
    "            # Update progress bar\n",
    "            progress_bar.set_postfix({'loss': f'{loss:.4f}'})\n",
    "            \n",
    "        avg_loss = total_loss / len(dataloader)\n",
    "        logger.info(f\"Epoch {epoch + 1}/{num_epochs}, Average Loss: {avg_loss:.4f}\")\n",
    "        \n",
    "        # Save checkpoint\n",
    "        checkpoint_path = os.path.join(model_save_dir, f'checkpoint_epoch_{epoch+1}.pt')\n",
    "        torch.save({\n",
    "            'epoch': epoch,\n",
    "            'model_state_dict': model.state_dict(),\n",
    "            'optimizer_state_dict': optimizer.state_dict(),\n",
    "            'loss': avg_loss,\n",
    "        }, checkpoint_path)\n",
    "        logger.info(f\"Saved checkpoint to {checkpoint_path}\")\n",
    "    \n",
    "    # Save final model\n",
    "    final_model_path = os.path.join(model_save_dir, 'final_model.pt')\n",
    "    torch.save(model.state_dict(), final_model_path)\n",
    "    logger.info(f\"Training completed. Final model saved to {final_model_path}\")\n",
    "    \n",
    "    return model"
   ]
  },
  {
   "cell_type": "code",
   "execution_count": 9,
   "metadata": {},
   "outputs": [
    {
     "name": "stderr",
     "output_type": "stream",
     "text": [
      "INFO:__main__:Using device: mps\n",
      "INFO:__main__:Loading data from ../dual_encoder_data/json/python_train_0.json\n",
      "INFO:__main__:Loaded 1000 examples\n",
      "INFO:__main__:Starting training...\n",
      "Epoch 1/3:   0%|          | 0/63 [00:00<?, ?it/s]huggingface/tokenizers: The current process just got forked, after parallelism has already been used. Disabling parallelism to avoid deadlocks...\n",
      "To disable this warning, you can either:\n",
      "\t- Avoid using `tokenizers` before the fork if possible\n",
      "\t- Explicitly set the environment variable TOKENIZERS_PARALLELISM=(true | false)\n",
      "Epoch 1/3: 100%|██████████| 63/63 [01:34<00:00,  1.49s/it, loss=0.0095]\n",
      "INFO:__main__:Epoch 1/3, Average Loss: 0.3909\n",
      "INFO:__main__:Saved checkpoint to ./code_docstring_model/checkpoint_epoch_1.pt\n",
      "Epoch 2/3: 100%|██████████| 63/63 [01:34<00:00,  1.49s/it, loss=0.0015]\n",
      "INFO:__main__:Epoch 2/3, Average Loss: 0.0122\n",
      "INFO:__main__:Saved checkpoint to ./code_docstring_model/checkpoint_epoch_2.pt\n",
      "Epoch 3/3: 100%|██████████| 63/63 [01:33<00:00,  1.49s/it, loss=0.0010]\n",
      "INFO:__main__:Epoch 3/3, Average Loss: 0.0065\n",
      "INFO:__main__:Saved checkpoint to ./code_docstring_model/checkpoint_epoch_3.pt\n",
      "INFO:__main__:Training completed. Final model saved to ./code_docstring_model/final_model.pt\n"
     ]
    }
   ],
   "source": [
    "def main():\n",
    "    # Training configuration\n",
    "    config = {\n",
    "        'train_json_path': '../dual_encoder_data/json/python_train_0.json',\n",
    "        'model_save_dir': './code_docstring_model',\n",
    "        'batch_size': 16,\n",
    "        'num_epochs': 3,\n",
    "        'learning_rate': 2e-5,\n",
    "        'model_name': \"answerdotai/ModernBERT-base\",\n",
    "        'max_length': 128\n",
    "    }\n",
    "    \n",
    "    # Train the model\n",
    "    trained_model = train_model(**config)\n",
    "    \n",
    "    return trained_model\n",
    "\n",
    "if __name__ == \"__main__\":\n",
    "    main()"
   ]
  },
  {
   "cell_type": "code",
   "execution_count": 10,
   "metadata": {},
   "outputs": [],
   "source": [
    "import ast\n",
    "from pathlib import Path\n",
    "\n",
    "\n",
    "class CodeRetriever:\n",
    "    def __init__(self, model_path: str, device = None):\n",
    "        if device is None:\n",
    "            self.device = torch.device('mps' if torch.mps.is_available() else 'cpu')\n",
    "        else:\n",
    "            self.device = torch.device(device)\n",
    "        \n",
    "        self.model = self.load_model(model_path)\n",
    "        self.tokenizer = AutoTokenizer.from_pretrained(\"answerdotai/ModernBERT-base\")\n",
    "        self.function_embeddings = None\n",
    "        self.docstring_embeddings = None\n",
    "\n",
    "    def load_model(self, model_path: str):\n",
    "        model = ContrastiveModel(\"answerdotai/ModernBERT-base\").to(self.device)\n",
    "        model.load_state_dict(torch.load(model_path))\n",
    "        model.eval()\n",
    "        return model\n",
    "    \n",
    "    def compute_embeddings(self, text: str, is_code:bool = True):\n",
    "        tokens = self.tokenizer(\n",
    "            text,\n",
    "            max_length=128,\n",
    "            padding='max_length',\n",
    "            truncation=True,\n",
    "            return_tensors='pt'\n",
    "        ).to(self.device)\n",
    "\n",
    "        with torch.no_grad():\n",
    "            if is_code:\n",
    "                embeddings = self.model.code_encoder(tokens['input_ids'], tokens['attention_mask'])\n",
    "            else:\n",
    "                embeddings = self.model.docstring_encoder(tokens['input_ids'], tokens['attention_mask'])\n",
    "        return embeddings\n",
    "\n",
    "\n"
   ]
  },
  {
   "cell_type": "code",
   "execution_count": 11,
   "metadata": {},
   "outputs": [
    {
     "name": "stdout",
     "output_type": "stream",
     "text": [
      "Code embedding shape: torch.Size([1, 768])\n",
      "Docstring embedding shape: torch.Size([1, 768])\n"
     ]
    }
   ],
   "source": [
    "\n",
    "retriever = CodeRetriever(\"./code_docstring_model/final_model.pt\")\n",
    "\n",
    "code = \"\"\"def unpersist(self, blocking=False):\n",
    "        self.is_cached = False\n",
    "        self._jrdd.unpersist(blocking)\n",
    "        return self\"\"\"\n",
    "\n",
    "docstring = \"\"\"Mark the RDD as non-persistent, and remove all blocks for it from\n",
    "        memory and disk.\"\"\"\n",
    "\n",
    "\n",
    "code_embedding = retriever.compute_embeddings(code, is_code=True)\n",
    "docstring_embedding = retriever.compute_embeddings(docstring, is_code=False)\n",
    "\n",
    "\n",
    "print(f\"Code embedding shape: {code_embedding.shape}\")\n",
    "print(f\"Docstring embedding shape: {docstring_embedding.shape}\")\n",
    "\n"
   ]
  },
  {
   "cell_type": "code",
   "execution_count": 12,
   "metadata": {},
   "outputs": [
    {
     "name": "stdout",
     "output_type": "stream",
     "text": [
      "Similarity between code and docstring: 0.5120\n"
     ]
    }
   ],
   "source": [
    "similarity = torch.nn.functional.cosine_similarity(code_embedding, docstring_embedding)\n",
    "print(f\"Similarity between code and docstring: {similarity.item():.4f}\")"
   ]
  },
  {
   "cell_type": "code",
   "execution_count": 13,
   "metadata": {},
   "outputs": [],
   "source": [
    "code_2=\"def _load_from_socket(port, auth_secret):\\n    \\\"\\\"\\\"\\n    Load data from a given socket, this is a blocking method thus only return when the socket\\n    connection has been closed.\\n    \\\"\\\"\\\"\\n    (sockfile, sock) = local_connect_and_auth(port, auth_secret)\\n    # The barrier() call may block forever, so no timeout\\n    sock.settimeout(None)\\n    # Make a barrier() function call.\\n    write_int(BARRIER_FUNCTION, sockfile)\\n    sockfile.flush()\\n\\n    # Collect result.\\n    res = UTF8Deserializer().loads(sockfile)\\n\\n    # Release resources.\\n    sockfile.close()\\n    sock.close()\\n\\n    return res\"\n",
    "docstring_2= \"Load data from a given socket, this is a blocking method thus only return when the socket\\n    connection has been closed.\"\n",
    "\n",
    "code_embedding_2 = retriever.compute_embeddings(code_2, is_code=True)\n",
    "docstring_embedding_2 = retriever.compute_embeddings(docstring_2, is_code=False)\n"
   ]
  },
  {
   "cell_type": "code",
   "execution_count": 14,
   "metadata": {},
   "outputs": [
    {
     "name": "stdout",
     "output_type": "stream",
     "text": [
      "Similarity between code and docstring_2: 0.4048\n",
      "Similarity between code_2 and docstring: 0.2455\n",
      "Similarity between code and docstring: 0.5120\n",
      "Similarity between code_2 and docstring_2: 0.8973\n"
     ]
    }
   ],
   "source": [
    "print(f\"Similarity between code and docstring_2: {torch.nn.functional.cosine_similarity(code_embedding, docstring_embedding_2).item():.4f}\")\n",
    "print(f\"Similarity between code_2 and docstring: {torch.nn.functional.cosine_similarity(code_embedding_2, docstring_embedding).item():.4f}\")\n",
    "print(f\"Similarity between code and docstring: {torch.nn.functional.cosine_similarity(code_embedding, docstring_embedding).item():.4f}\")\n",
    "print(f\"Similarity between code_2 and docstring_2: {torch.nn.functional.cosine_similarity(code_embedding_2, docstring_embedding_2).item():.4f}\")\n"
   ]
  },
  {
   "cell_type": "code",
   "execution_count": 15,
   "metadata": {},
   "outputs": [],
   "source": [
    "import seaborn as sns\n",
    "import matplotlib.pyplot as plt\n",
    "import numpy as np\n",
    "\n",
    "# Load and prepare data\n",
    "with open(\"../dual_encoder_data/json/python_train_0.json\", 'r') as f:\n",
    "    data = json.load(f)\n"
   ]
  },
  {
   "cell_type": "code",
   "execution_count": 21,
   "metadata": {},
   "outputs": [
    {
     "name": "stderr",
     "output_type": "stream",
     "text": [
      "Computing embeddings: 100%|██████████| 20/20 [00:09<00:00,  2.01it/s]\n"
     ]
    }
   ],
   "source": [
    "\n",
    "import random\n",
    "samples = random.sample(data, 20)\n",
    "\n",
    "code_embeddings = []\n",
    "docstring_embeddings = []\n",
    "\n",
    "for sample in tqdm(samples, desc=\"Computing embeddings\"):\n",
    "    code_emb = retriever.compute_embeddings(sample['code'], is_code=True)\n",
    "    doc_emb = retriever.compute_embeddings(sample['docstring'], is_code=False)\n",
    "    \n",
    "    code_embeddings.append(code_emb)\n",
    "    docstring_embeddings.append(doc_emb)\n",
    "\n",
    "\n",
    "code_embeddings = torch.cat(code_embeddings, dim=0)\n",
    "docstring_embeddings = torch.cat(docstring_embeddings, dim=0)\n",
    "\n",
    "code_embeddings_normalized = nn.functional.normalize(code_embeddings, dim=1)\n",
    "docstring_embeddings_normalized = nn.functional.normalize(docstring_embeddings, dim=1)\n",
    "similarity_matrix = torch.matmul(code_embeddings_normalized, docstring_embeddings_normalized.T)\n",
    "\n",
    "similarity_matrix = similarity_matrix.cpu().numpy()\n",
    "\n",
    "\n"
   ]
  },
  {
   "cell_type": "code",
   "execution_count": 23,
   "metadata": {},
   "outputs": [
    {
     "data": {
      "image/png": "[encoded data removed]",
      "text/plain": [
       "<Figure size 1200x1000 with 2 Axes>"
      ]
     },
     "metadata": {},
     "output_type": "display_data"
    }
   ],
   "source": [
    "# Create heatmap\n",
    "plt.figure(figsize=(12, 10))\n",
    "sns.heatmap(similarity_matrix, \n",
    "            cmap='viridis', \n",
    "            vmin=-1, \n",
    "            vmax=1,\n",
    "            center=0,\n",
    "            xticklabels=range(1, 21),\n",
    "            yticklabels=range(1, 21))\n",
    "plt.title('Code-Docstring Similarity Matrix')\n",
    "plt.xlabel('Docstring Index')\n",
    "plt.ylabel('Code Index')\n",
    "plt.show()"
   ]
  },
  {
   "cell_type": "code",
   "execution_count": 25,
   "metadata": {},
   "outputs": [
    {
     "name": "stdout",
     "output_type": "stream",
     "text": [
      "\n",
      "Diagonal similarities (same code-docstring pairs):\n",
      "Pair 1: 0.8651\n",
      "Pair 2: 0.8856\n",
      "Pair 3: 0.8784\n",
      "Pair 4: 0.8696\n",
      "Pair 5: 0.7665\n",
      "Pair 6: 0.8778\n",
      "Pair 7: 0.7765\n",
      "Pair 8: 0.8970\n",
      "Pair 9: 0.8817\n",
      "Pair 10: 0.7818\n",
      "Pair 11: 0.8964\n",
      "Pair 12: 0.8454\n",
      "Pair 13: 0.7856\n",
      "Pair 14: 0.8519\n",
      "Pair 15: 0.7411\n",
      "Pair 16: 0.6590\n",
      "Pair 17: 0.8259\n",
      "Pair 18: 0.7843\n",
      "Pair 19: 0.9201\n",
      "Pair 20: 0.8920\n",
      "\n",
      "Average diagonal similarity: 0.8341\n",
      "Average off-diagonal similarity: 0.2138\n"
     ]
    }
   ],
   "source": [
    "print(\"\\nDiagonal similarities (same code-docstring pairs):\")\n",
    "diagonal_similarities = similarity_matrix.diagonal()\n",
    "for i, sim in enumerate(diagonal_similarities):\n",
    "    print(f\"Pair {i+1}: {sim:.4f}\")\n",
    "\n",
    "# Print average diagonal vs off-diagonal similarity\n",
    "diagonal_mean = np.mean(diagonal_similarities)\n",
    "off_diagonal_mean = np.mean(similarity_matrix[~np.eye(similarity_matrix.shape[0], dtype=bool)])\n",
    "print(f\"\\nAverage diagonal similarity: {diagonal_mean:.4f}\")\n",
    "print(f\"Average off-diagonal similarity: {off_diagonal_mean:.4f}\")"
   ]
  },
  {
   "cell_type": "code",
   "execution_count": null,
   "metadata": {},
   "outputs": [],
   "source": []
  }
 ],
 "metadata": {
  "kernelspec": {
   "display_name": "venv",
   "language": "python",
   "name": "python3"
  },
  "language_info": {
   "codemirror_mode": {
    "name": "ipython",
    "version": 3
   },
   "file_extension": ".py",
   "mimetype": "text/x-python",
   "name": "python",
   "nbconvert_exporter": "python",
   "pygments_lexer": "ipython3",
   "version": "3.12.6"
  }
 },
 "nbformat": 4,
 "nbformat_minor": 2
}
