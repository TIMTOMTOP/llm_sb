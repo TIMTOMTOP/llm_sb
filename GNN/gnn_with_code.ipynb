{
 "cells": [
  {
   "cell_type": "code",
   "execution_count": 17,
   "metadata": {},
   "outputs": [],
   "source": [
    "import networkx as nx\n",
    "import torch\n",
    "import torch.nn as nn\n",
    "import torch.nn.functional as F\n",
    "import torch.optim as optim\n",
    "from torch_geometric.data import Data\n",
    "from torch_geometric.nn import GCNConv\n",
    "\n"
   ]
  },
  {
   "cell_type": "code",
   "execution_count": 18,
   "metadata": {},
   "outputs": [],
   "source": [
    "graph = nx.read_graphml(\"../code_graphs/sdk_graph_anthropic.graphml\")"
   ]
  },
  {
   "cell_type": "code",
   "execution_count": 19,
   "metadata": {},
   "outputs": [],
   "source": [
    "# get nodes and edges\n",
    "nodes = list(graph.nodes())\n",
    "edges = list(graph.edges())\n"
   ]
  },
  {
   "cell_type": "code",
   "execution_count": 20,
   "metadata": {},
   "outputs": [
    {
     "name": "stdout",
     "output_type": "stream",
     "text": [
      "1284\n",
      "2435\n"
     ]
    }
   ],
   "source": [
    "print(len(nodes))\n",
    "print(len(edges))"
   ]
  },
  {
   "cell_type": "code",
   "execution_count": 21,
   "metadata": {},
   "outputs": [],
   "source": [
    "\n",
    "# create a graph\n",
    "G = nx.Graph()\n",
    "G.add_nodes_from(nodes)\n",
    "G.add_edges_from(edges)\n",
    "\n"
   ]
  },
  {
   "cell_type": "code",
   "execution_count": 22,
   "metadata": {},
   "outputs": [],
   "source": [
    "# get nodes and edges with their attributes\n",
    "nodes = [(node, graph.nodes[node]) for node in graph.nodes()]  # This preserves node attributes\n",
    "edges = [(u, v, graph.edges[u, v]) for u, v in graph.edges()]  # This preserves edge attributes\n",
    "\n",
    "\n",
    "# create a graph preserving attributes\n",
    "G = nx.Graph()\n",
    "G.add_nodes_from(nodes)  # Now adds nodes with their attributes\n",
    "G.add_edges_from(edges)\n"
   ]
  },
  {
   "cell_type": "code",
   "execution_count": 23,
   "metadata": {},
   "outputs": [
    {
     "name": "stdout",
     "output_type": "stream",
     "text": [
      "1284\n"
     ]
    }
   ],
   "source": [
    "print(len(nodes))"
   ]
  },
  {
   "cell_type": "code",
   "execution_count": 24,
   "metadata": {},
   "outputs": [
    {
     "name": "stdout",
     "output_type": "stream",
     "text": [
      "file\n"
     ]
    }
   ],
   "source": [
    "\n",
    "# Now you can access the attributes\n",
    "first_node = nodes[0][0]  # Get the node ID\n",
    "node_type = G.nodes[first_node]['type']\n",
    "print(node_type)  # Should now print the type\n",
    "\n",
    "# check such that all nodes have a type\n",
    "for node in G.nodes():\n",
    "    assert G.nodes[node]['type'] is not None\n",
    "\n",
    "\n"
   ]
  },
  {
   "cell_type": "code",
   "execution_count": 25,
   "metadata": {},
   "outputs": [
    {
     "name": "stdout",
     "output_type": "stream",
     "text": [
      "Node 0: ('File:/Users/tomas/graph_test/test/venv/lib/python3.13/site-packages/anthropic/_constants.py', {'type': 'file', 'name': '_constants.py'})\n",
      "Node 1: ('File:/Users/tomas/graph_test/test/venv/lib/python3.13/site-packages/anthropic/_types.py', {'type': 'file', 'name': '_types.py'})\n",
      "Node 2: ('Class:RequestOptions@/Users/tomas/graph_test/test/venv/lib/python3.13/site-packages/anthropic/_types.py', {'type': 'class', 'name': 'RequestOptions'})\n",
      "Node 3: ('Class:NotGiven@/Users/tomas/graph_test/test/venv/lib/python3.13/site-packages/anthropic/_types.py', {'type': 'class', 'name': 'NotGiven'})\n",
      "Node 4: ('Method:NotGiven.__bool__@/Users/tomas/graph_test/test/venv/lib/python3.13/site-packages/anthropic/_types.py', {'type': 'method', 'name': '__bool__'})\n",
      "Node 5: ('Method:NotGiven.__repr__@/Users/tomas/graph_test/test/venv/lib/python3.13/site-packages/anthropic/_types.py', {'type': 'method', 'name': '__repr__'})\n",
      "Node 6: ('Class:Omit@/Users/tomas/graph_test/test/venv/lib/python3.13/site-packages/anthropic/_types.py', {'type': 'class', 'name': 'Omit'})\n",
      "\n",
      "Number of nodes with 'type' attribute: 1284 out of 1284\n",
      "\n",
      "Available attributes for first node: dict_keys(['type', 'name'])\n"
     ]
    }
   ],
   "source": [
    "# Print first few nodes and their attributes to see what we have\n",
    "for i, node in enumerate(G.nodes(data=True)):\n",
    "    print(f\"Node {i}: {node}\")\n",
    "    if i > 5:  # Just print first 5 nodes to keep output manageable\n",
    "        break\n",
    "\n",
    "# Then check if any nodes have the type attribute\n",
    "has_type = [node for node, attr in G.nodes(data=True) if 'type' in attr]\n",
    "print(f\"\\nNumber of nodes with 'type' attribute: {len(has_type)} out of {len(G.nodes())}\")\n",
    "\n",
    "# Check what attributes are available\n",
    "if len(G.nodes()) > 0:\n",
    "    first_node = list(G.nodes())[0]\n",
    "    print(f\"\\nAvailable attributes for first node: {G.nodes[first_node].keys()}\")"
   ]
  },
  {
   "cell_type": "code",
   "execution_count": 26,
   "metadata": {},
   "outputs": [
    {
     "name": "stdout",
     "output_type": "stream",
     "text": [
      "{'class', 'function', 'file', 'external_class', 'method', 'external_function'}\n"
     ]
    }
   ],
   "source": [
    "# get all unique node types\n",
    "unique_node_types = set(G.nodes[node]['type'] for node in G.nodes())\n",
    "print(unique_node_types)\n",
    "\n"
   ]
  },
  {
   "cell_type": "code",
   "execution_count": 28,
   "metadata": {},
   "outputs": [
    {
     "name": "stdout",
     "output_type": "stream",
     "text": [
      "{'inherits', 'calls', 'contains'}\n"
     ]
    }
   ],
   "source": [
    "# get all unique node types\n",
    "unique_edge_relationships = set(G.edges[edge]['relationship'] for edge in G.edges())\n",
    "print(unique_edge_relationships)\n",
    "\n"
   ]
  }
 ],
 "metadata": {
  "kernelspec": {
   "display_name": "venv",
   "language": "python",
   "name": "python3"
  },
  "language_info": {
   "codemirror_mode": {
    "name": "ipython",
    "version": 3
   },
   "file_extension": ".py",
   "mimetype": "text/x-python",
   "name": "python",
   "nbconvert_exporter": "python",
   "pygments_lexer": "ipython3",
   "version": "3.12.6"
  }
 },
 "nbformat": 4,
 "nbformat_minor": 2
}
