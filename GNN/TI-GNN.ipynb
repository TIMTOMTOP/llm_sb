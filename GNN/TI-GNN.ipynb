{
 "cells": [
  {
   "cell_type": "markdown",
   "metadata": {},
   "source": [
    "## Translation Invariant GNN\n"
   ]
  },
  {
   "cell_type": "code",
   "execution_count": 1,
   "metadata": {},
   "outputs": [],
   "source": [
    "import torch\n",
    "import torch.nn as nn\n",
    "import torch.nn.functional as F\n",
    "from torch_geometric.nn import MessagePassing"
   ]
  },
  {
   "cell_type": "code",
   "execution_count": null,
   "metadata": {},
   "outputs": [],
   "source": [
    "class TranslationInvariantGNN(MessagePassing):\n",
    "    def __init__(self, node_features, hidden_channels):\n",
    "        super().__init__(aggr='add')  # Aggregation as shown in PDF\n",
    "        \n",
    "        # Edge operation (φe) that takes hi, hj, and ||xi - xj||^2\n",
    "        self.edge_mlp = nn.Sequential(\n",
    "            nn.Linear(2 * node_features + 1, hidden_channels), # +1 for the distance\n",
    "            nn.ReLU(),\n",
    "            nn.Linear(hidden_channels, hidden_channels)\n",
    "        )\n",
    "        \n",
    "        # Node operation (φh)\n",
    "        self.node_mlp = nn.Sequential(\n",
    "            nn.Linear(node_features + hidden_channels, hidden_channels),\n",
    "            nn.ReLU(),\n",
    "            nn.Linear(hidden_channels, hidden_channels)\n",
    "        )\n",
    "\n",
    "    def forward(self, x, edge_index, pos):\n",
    "        \"\"\"\n",
    "        x: Node features [N, node_features]\n",
    "        edge_index: Graph connectivity [2, E]\n",
    "        pos: Node positions [N, D] - could be learned or initialized\n",
    "        \"\"\"\n",
    "        return self.propagate(edge_index, x=x, pos=pos)\n",
    "\n",
    "    def message(self, x_i, x_j, pos_i, pos_j):\n",
    "        # Compute ||xi - xj||^2\n",
    "        distance = torch.sum((pos_i - pos_j) ** 2, dim=1).unsqueeze(1)\n",
    "        \n",
    "        # Concatenate features and distance\n",
    "        msg_features = torch.cat([x_i, x_j, distance], dim=-1)\n",
    "        \n",
    "        return self.edge_mlp(msg_features)\n",
    "\n",
    "    def update(self, aggr_out, x):\n",
    "        # Combine node's current features with aggregated messages\n",
    "        update_features = torch.cat([x, aggr_out], dim=-1)\n",
    "        return self.node_mlp(update_features)"
   ]
  },
  {
   "cell_type": "code",
   "execution_count": null,
   "metadata": {},
   "outputs": [],
   "source": []
  }
 ],
 "metadata": {
  "kernelspec": {
   "display_name": "venv",
   "language": "python",
   "name": "python3"
  },
  "language_info": {
   "codemirror_mode": {
    "name": "ipython",
    "version": 3
   },
   "file_extension": ".py",
   "mimetype": "text/x-python",
   "name": "python",
   "nbconvert_exporter": "python",
   "pygments_lexer": "ipython3",
   "version": "3.12.6"
  }
 },
 "nbformat": 4,
 "nbformat_minor": 2
}
